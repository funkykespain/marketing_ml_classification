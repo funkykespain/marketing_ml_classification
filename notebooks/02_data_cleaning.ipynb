{
 "cells": [
  {
   "cell_type": "markdown",
   "metadata": {},
   "source": [
    "# **2. Data Cleaning**"
   ]
  },
  {
   "cell_type": "code",
   "execution_count": 111,
   "metadata": {},
   "outputs": [
    {
     "name": "stdout",
     "output_type": "stream",
     "text": [
      "     ID  Year_Birth   Education Marital_Status   Income  Kidhome  Teenhome  \\\n",
      "0  5524        1957  Graduation         Single  58138.0        0         0   \n",
      "1  2174        1954  Graduation         Single  46344.0        1         1   \n",
      "2  4141        1965  Graduation       Together  71613.0        0         0   \n",
      "3  6182        1984  Graduation       Together  26646.0        1         0   \n",
      "\n",
      "  Dt_Customer  Recency  MntWines  ...  NumWebVisitsMonth  AcceptedCmp3  \\\n",
      "0  04-09-2012       58       635  ...                  7             0   \n",
      "1  08-03-2014       38        11  ...                  5             0   \n",
      "2  21-08-2013       26       426  ...                  4             0   \n",
      "3  10-02-2014       26        11  ...                  6             0   \n",
      "\n",
      "   AcceptedCmp4  AcceptedCmp5  AcceptedCmp1  AcceptedCmp2  Complain  \\\n",
      "0             0             0             0             0         0   \n",
      "1             0             0             0             0         0   \n",
      "2             0             0             0             0         0   \n",
      "3             0             0             0             0         0   \n",
      "\n",
      "   Z_CostContact  Z_Revenue  Response  \n",
      "0              3         11         1  \n",
      "1              3         11         0  \n",
      "2              3         11         0  \n",
      "3              3         11         0  \n",
      "\n",
      "[4 rows x 29 columns]\n"
     ]
    }
   ],
   "source": [
    "import pandas as pd\n",
    "\n",
    "# Cargar el archivo CSV\n",
    "df = pd.read_csv('../data/interim/01campana_marketing.csv')\n",
    "\n",
    "# Mostrar las primeras 4 filas\n",
    "print(df.head(4))"
   ]
  },
  {
   "cell_type": "markdown",
   "metadata": {},
   "source": [
    "### Exploración de datos:\n",
    "Comprobación de los datos limpios"
   ]
  },
  {
   "cell_type": "code",
   "execution_count": 112,
   "metadata": {},
   "outputs": [
    {
     "name": "stdout",
     "output_type": "stream",
     "text": [
      "<class 'pandas.core.frame.DataFrame'>\n",
      "RangeIndex: 2240 entries, 0 to 2239\n",
      "Data columns (total 29 columns):\n",
      " #   Column               Non-Null Count  Dtype  \n",
      "---  ------               --------------  -----  \n",
      " 0   ID                   2240 non-null   int64  \n",
      " 1   Year_Birth           2240 non-null   int64  \n",
      " 2   Education            2240 non-null   object \n",
      " 3   Marital_Status       2240 non-null   object \n",
      " 4   Income               2216 non-null   float64\n",
      " 5   Kidhome              2240 non-null   int64  \n",
      " 6   Teenhome             2240 non-null   int64  \n",
      " 7   Dt_Customer          2240 non-null   object \n",
      " 8   Recency              2240 non-null   int64  \n",
      " 9   MntWines             2240 non-null   int64  \n",
      " 10  MntFruits            2240 non-null   int64  \n",
      " 11  MntMeatProducts      2240 non-null   int64  \n",
      " 12  MntFishProducts      2240 non-null   int64  \n",
      " 13  MntSweetProducts     2240 non-null   int64  \n",
      " 14  MntGoldProds         2240 non-null   int64  \n",
      " 15  NumDealsPurchases    2240 non-null   int64  \n",
      " 16  NumWebPurchases      2240 non-null   int64  \n",
      " 17  NumCatalogPurchases  2240 non-null   int64  \n",
      " 18  NumStorePurchases    2240 non-null   int64  \n",
      " 19  NumWebVisitsMonth    2240 non-null   int64  \n",
      " 20  AcceptedCmp3         2240 non-null   int64  \n",
      " 21  AcceptedCmp4         2240 non-null   int64  \n",
      " 22  AcceptedCmp5         2240 non-null   int64  \n",
      " 23  AcceptedCmp1         2240 non-null   int64  \n",
      " 24  AcceptedCmp2         2240 non-null   int64  \n",
      " 25  Complain             2240 non-null   int64  \n",
      " 26  Z_CostContact        2240 non-null   int64  \n",
      " 27  Z_Revenue            2240 non-null   int64  \n",
      " 28  Response             2240 non-null   int64  \n",
      "dtypes: float64(1), int64(25), object(3)\n",
      "memory usage: 507.6+ KB\n"
     ]
    }
   ],
   "source": [
    "# Obtener información sobre el dataset\n",
    "df.info()"
   ]
  },
  {
   "cell_type": "code",
   "execution_count": 113,
   "metadata": {},
   "outputs": [
    {
     "name": "stdout",
     "output_type": "stream",
     "text": [
      "[3]\n",
      "[11]\n"
     ]
    }
   ],
   "source": [
    "print(df[\"Z_CostContact\"].unique())\n",
    "print(df[\"Z_Revenue\"].unique())"
   ]
  },
  {
   "cell_type": "markdown",
   "metadata": {},
   "source": [
    "### Eliminar las columnas `Z_CostContact` y `Z_Revenue`\n",
    "Estas dos columnas tienen el mismo valor en todos los puntos de datos. Por lo tanto, estas dos columnas no son relevantes y pueden eliminarse."
   ]
  },
  {
   "cell_type": "code",
   "execution_count": 114,
   "metadata": {},
   "outputs": [
    {
     "name": "stdout",
     "output_type": "stream",
     "text": [
      "\n",
      "Después de eliminar columnas:\n",
      "<class 'pandas.core.frame.DataFrame'>\n",
      "RangeIndex: 2240 entries, 0 to 2239\n",
      "Data columns (total 27 columns):\n",
      " #   Column               Non-Null Count  Dtype  \n",
      "---  ------               --------------  -----  \n",
      " 0   ID                   2240 non-null   int64  \n",
      " 1   Year_Birth           2240 non-null   int64  \n",
      " 2   Education            2240 non-null   object \n",
      " 3   Marital_Status       2240 non-null   object \n",
      " 4   Income               2216 non-null   float64\n",
      " 5   Kidhome              2240 non-null   int64  \n",
      " 6   Teenhome             2240 non-null   int64  \n",
      " 7   Dt_Customer          2240 non-null   object \n",
      " 8   Recency              2240 non-null   int64  \n",
      " 9   MntWines             2240 non-null   int64  \n",
      " 10  MntFruits            2240 non-null   int64  \n",
      " 11  MntMeatProducts      2240 non-null   int64  \n",
      " 12  MntFishProducts      2240 non-null   int64  \n",
      " 13  MntSweetProducts     2240 non-null   int64  \n",
      " 14  MntGoldProds         2240 non-null   int64  \n",
      " 15  NumDealsPurchases    2240 non-null   int64  \n",
      " 16  NumWebPurchases      2240 non-null   int64  \n",
      " 17  NumCatalogPurchases  2240 non-null   int64  \n",
      " 18  NumStorePurchases    2240 non-null   int64  \n",
      " 19  NumWebVisitsMonth    2240 non-null   int64  \n",
      " 20  AcceptedCmp3         2240 non-null   int64  \n",
      " 21  AcceptedCmp4         2240 non-null   int64  \n",
      " 22  AcceptedCmp5         2240 non-null   int64  \n",
      " 23  AcceptedCmp1         2240 non-null   int64  \n",
      " 24  AcceptedCmp2         2240 non-null   int64  \n",
      " 25  Complain             2240 non-null   int64  \n",
      " 26  Response             2240 non-null   int64  \n",
      "dtypes: float64(1), int64(23), object(3)\n",
      "memory usage: 472.6+ KB\n",
      "None\n"
     ]
    }
   ],
   "source": [
    "# Eliminar las columnas Z_CostContact y Z_Revenue\n",
    "df.drop(columns=['Z_CostContact', 'Z_Revenue'], inplace=True)\n",
    "\n",
    "# Verificar que las columnas se han eliminado\n",
    "print(\"\\nDespués de eliminar columnas:\")\n",
    "print(df.info())"
   ]
  },
  {
   "cell_type": "code",
   "execution_count": 115,
   "metadata": {},
   "outputs": [
    {
     "data": {
      "text/plain": [
       "array(['Graduation', 'PhD', 'Master', 'Basic', '2n Cycle'], dtype=object)"
      ]
     },
     "execution_count": 115,
     "metadata": {},
     "output_type": "execute_result"
    }
   ],
   "source": [
    "df[\"Education\"].unique()"
   ]
  },
  {
   "cell_type": "markdown",
   "metadata": {},
   "source": [
    "En [**Feature Engineering**](3_feature_engineering.ipynb) haremos un **Label Encoding** de `Education`"
   ]
  },
  {
   "cell_type": "code",
   "execution_count": 116,
   "metadata": {},
   "outputs": [
    {
     "data": {
      "text/plain": [
       "array(['Single', 'Together', 'Married', 'Divorced', 'Widow', 'Alone',\n",
       "       'Absurd', 'YOLO'], dtype=object)"
      ]
     },
     "execution_count": 116,
     "metadata": {},
     "output_type": "execute_result"
    }
   ],
   "source": [
    "df[\"Marital_Status\"].unique()"
   ]
  },
  {
   "cell_type": "code",
   "execution_count": 117,
   "metadata": {},
   "outputs": [
    {
     "name": "stdout",
     "output_type": "stream",
     "text": [
      "Marital_Status\n",
      "Married     864\n",
      "Together    580\n",
      "Single      480\n",
      "Divorced    232\n",
      "Widow        77\n",
      "Alone         3\n",
      "Absurd        2\n",
      "YOLO          2\n",
      "Name: count, dtype: int64\n"
     ]
    }
   ],
   "source": [
    "# Contar las ocurrencias de cada categoría en la columna \"Marital_Status\"\n",
    "marital_counts = df['Marital_Status'].value_counts()\n",
    "\n",
    "# Mostrar los resultados\n",
    "print(marital_counts)"
   ]
  },
  {
   "cell_type": "markdown",
   "metadata": {},
   "source": [
    "### Cambiamos en las filas que contienen `Alone` a `Single`. Y eliminamos las filas que contienen `Absurd` y `YOLO` (no son más que 4 filas)"
   ]
  },
  {
   "cell_type": "code",
   "execution_count": 118,
   "metadata": {},
   "outputs": [
    {
     "name": "stdout",
     "output_type": "stream",
     "text": [
      "['Single' 'Together' 'Married' 'Divorced' 'Widow']\n"
     ]
    }
   ],
   "source": [
    "# Reemplazar \"Alone\" por \"Single\" en la columna \"Marital_Status\"\n",
    "df['Marital_Status'] = df['Marital_Status'].replace('Alone', 'Single')\n",
    "\n",
    "# Eliminar las filas que contienen \"Absurd\" y \"YOLO\" en la columna \"Marital_Status\"\n",
    "df = df[~df['Marital_Status'].isin(['Absurd', 'YOLO'])]\n",
    "\n",
    "# Verificar los cambios\n",
    "print(df['Marital_Status'].unique())"
   ]
  },
  {
   "cell_type": "markdown",
   "metadata": {},
   "source": [
    "También haremos en [**Feature Engineering**](3_feature_engineering.ipynb) un **One-Hot Encoding** de `Marital_Status`"
   ]
  },
  {
   "cell_type": "markdown",
   "metadata": {},
   "source": [
    "### Ponemos `Dt_Customer` (object) a un formato de fecha adecuado"
   ]
  },
  {
   "cell_type": "code",
   "execution_count": 119,
   "metadata": {},
   "outputs": [
    {
     "name": "stdout",
     "output_type": "stream",
     "text": [
      "<class 'pandas.core.frame.DataFrame'>\n",
      "Index: 2236 entries, 0 to 2239\n",
      "Data columns (total 27 columns):\n",
      " #   Column               Non-Null Count  Dtype         \n",
      "---  ------               --------------  -----         \n",
      " 0   ID                   2236 non-null   int64         \n",
      " 1   Year_Birth           2236 non-null   int64         \n",
      " 2   Education            2236 non-null   object        \n",
      " 3   Marital_Status       2236 non-null   object        \n",
      " 4   Income               2212 non-null   float64       \n",
      " 5   Kidhome              2236 non-null   int64         \n",
      " 6   Teenhome             2236 non-null   int64         \n",
      " 7   Dt_Customer          2236 non-null   datetime64[ns]\n",
      " 8   Recency              2236 non-null   int64         \n",
      " 9   MntWines             2236 non-null   int64         \n",
      " 10  MntFruits            2236 non-null   int64         \n",
      " 11  MntMeatProducts      2236 non-null   int64         \n",
      " 12  MntFishProducts      2236 non-null   int64         \n",
      " 13  MntSweetProducts     2236 non-null   int64         \n",
      " 14  MntGoldProds         2236 non-null   int64         \n",
      " 15  NumDealsPurchases    2236 non-null   int64         \n",
      " 16  NumWebPurchases      2236 non-null   int64         \n",
      " 17  NumCatalogPurchases  2236 non-null   int64         \n",
      " 18  NumStorePurchases    2236 non-null   int64         \n",
      " 19  NumWebVisitsMonth    2236 non-null   int64         \n",
      " 20  AcceptedCmp3         2236 non-null   int64         \n",
      " 21  AcceptedCmp4         2236 non-null   int64         \n",
      " 22  AcceptedCmp5         2236 non-null   int64         \n",
      " 23  AcceptedCmp1         2236 non-null   int64         \n",
      " 24  AcceptedCmp2         2236 non-null   int64         \n",
      " 25  Complain             2236 non-null   int64         \n",
      " 26  Response             2236 non-null   int64         \n",
      "dtypes: datetime64[ns](1), float64(1), int64(23), object(2)\n",
      "memory usage: 489.1+ KB\n",
      "None\n"
     ]
    }
   ],
   "source": [
    "# Convertir la columna 'Dt_Customer' a tipo datetime\n",
    "df['Dt_Customer'] = pd.to_datetime(df['Dt_Customer'], format='%d-%m-%Y')\n",
    "# Asegúrate de que 'Dt_Customer' sea de tipo datetime\n",
    "df['Dt_Customer'] = pd.to_datetime(df['Dt_Customer'])\n",
    "\n",
    "# Verificar el cambio\n",
    "print(df.info())"
   ]
  },
  {
   "cell_type": "markdown",
   "metadata": {},
   "source": [
    "En [**Feature Engineering**](3_feature_engineering.ipynb) crearemos 2 características nuevas a partir de `Dt_Customer` para determinar mejor la antigüedad del cliente."
   ]
  },
  {
   "cell_type": "code",
   "execution_count": 120,
   "metadata": {},
   "outputs": [
    {
     "name": "stdout",
     "output_type": "stream",
     "text": [
      "count                             2236\n",
      "mean     2013-07-10 15:56:21.037566976\n",
      "min                2012-07-30 00:00:00\n",
      "25%                2013-01-17 00:00:00\n",
      "50%                2013-07-09 00:00:00\n",
      "75%                2013-12-30 06:00:00\n",
      "max                2014-06-29 00:00:00\n",
      "Name: Dt_Customer, dtype: object\n",
      "0   2012-09-04\n",
      "1   2014-03-08\n",
      "2   2013-08-21\n",
      "3   2014-02-10\n",
      "4   2014-01-19\n",
      "Name: Dt_Customer, dtype: datetime64[ns]\n"
     ]
    }
   ],
   "source": [
    "print(df['Dt_Customer'].describe())\n",
    "print(df['Dt_Customer'].head())"
   ]
  },
  {
   "cell_type": "code",
   "execution_count": 121,
   "metadata": {},
   "outputs": [
    {
     "name": "stdout",
     "output_type": "stream",
     "text": [
      "float64\n"
     ]
    }
   ],
   "source": [
    "print(df['Income'].dtype)"
   ]
  },
  {
   "cell_type": "code",
   "execution_count": 122,
   "metadata": {},
   "outputs": [
    {
     "data": {
      "text/plain": [
       "\"\\n# Convertir la columna 'Income' de float64 a int64\\ndf['Income'] = df['Income'].astype('int64')\\n\\n# Verificar el cambio\\nprint(df.info())\\nprint(df.head())\\nprint(df['Income'].dtype)\\n\""
      ]
     },
     "execution_count": 122,
     "metadata": {},
     "output_type": "execute_result"
    }
   ],
   "source": [
    "#Primer intento de pasar el sueldo Income a número entero, ya que no contiene decimales\n",
    "\"\"\"\n",
    "# Convertir la columna 'Income' de float64 a int64\n",
    "df['Income'] = df['Income'].astype('int64')\n",
    "\n",
    "# Verificar el cambio\n",
    "print(df.info())\n",
    "print(df.head())\n",
    "print(df['Income'].dtype)\n",
    "\"\"\""
   ]
  },
  {
   "cell_type": "code",
   "execution_count": 123,
   "metadata": {},
   "outputs": [
    {
     "data": {
      "text/plain": [
       "np.True_"
      ]
     },
     "execution_count": 123,
     "metadata": {},
     "output_type": "execute_result"
    }
   ],
   "source": [
    "# Verificar valores faltantes (NaN) en la columna 'Income'\n",
    "df['Income'].isnull().any()"
   ]
  },
  {
   "cell_type": "markdown",
   "metadata": {},
   "source": [
    "### En `Year_Birt` hay años que no son lógicos"
   ]
  },
  {
   "cell_type": "code",
   "execution_count": 124,
   "metadata": {},
   "outputs": [
    {
     "name": "stdout",
     "output_type": "stream",
     "text": [
      "        ID  Year_Birth Education Marital_Status   Income  Kidhome  Teenhome  \\\n",
      "192   7829        1900  2n Cycle       Divorced  36640.0        1         0   \n",
      "239  11004        1893  2n Cycle         Single  60182.0        0         1   \n",
      "339   1150        1899       PhD       Together  83532.0        0         0   \n",
      "\n",
      "    Dt_Customer  Recency  MntWines  ...  NumCatalogPurchases  \\\n",
      "192  2013-09-26       99        15  ...                    1   \n",
      "239  2014-05-17       23         8  ...                    0   \n",
      "339  2013-09-26       36       755  ...                    6   \n",
      "\n",
      "     NumStorePurchases  NumWebVisitsMonth  AcceptedCmp3  AcceptedCmp4  \\\n",
      "192                  2                  5             0             0   \n",
      "239                  2                  4             0             0   \n",
      "339                  4                  1             0             0   \n",
      "\n",
      "     AcceptedCmp5  AcceptedCmp1  AcceptedCmp2  Complain  Response  \n",
      "192             0             0             0         1         0  \n",
      "239             0             0             0         0         0  \n",
      "339             1             0             0         0         0  \n",
      "\n",
      "[3 rows x 27 columns]\n"
     ]
    }
   ],
   "source": [
    "# Filtrar filas donde Year_Birth es inferior a 1940\n",
    "filas_inferior_1940 = df[df['Year_Birth'] < 1940]\n",
    "\n",
    "# Mostrar los encabezados y las primeras tres filas\n",
    "print(filas_inferior_1940.head(3))"
   ]
  },
  {
   "cell_type": "markdown",
   "metadata": {},
   "source": [
    "**Donde Year_Birth es 1893 y 1899, parece un error al teclear o introducir el dato. Lo pasamos a 1993 y 1999.**"
   ]
  },
  {
   "cell_type": "code",
   "execution_count": 125,
   "metadata": {},
   "outputs": [
    {
     "name": "stdout",
     "output_type": "stream",
     "text": [
      "       ID  Year_Birth Education Marital_Status   Income  Kidhome  Teenhome  \\\n",
      "192  7829        1900  2n Cycle       Divorced  36640.0        1         0   \n",
      "\n",
      "    Dt_Customer  Recency  MntWines  ...  NumCatalogPurchases  \\\n",
      "192  2013-09-26       99        15  ...                    1   \n",
      "\n",
      "     NumStorePurchases  NumWebVisitsMonth  AcceptedCmp3  AcceptedCmp4  \\\n",
      "192                  2                  5             0             0   \n",
      "\n",
      "     AcceptedCmp5  AcceptedCmp1  AcceptedCmp2  Complain  Response  \n",
      "192             0             0             0         1         0  \n",
      "\n",
      "[1 rows x 27 columns]\n"
     ]
    }
   ],
   "source": [
    "# Reemplazar los valores erróneos\n",
    "df.loc[df['Year_Birth'] == 1893, 'Year_Birth'] = 1993\n",
    "df.loc[df['Year_Birth'] == 1899, 'Year_Birth'] = 1999\n",
    "\n",
    "# Filtrar filas donde Year_Birth es inferior a 1940\n",
    "filas_inferior_1940 = df[df['Year_Birth'] < 1940]\n",
    "\n",
    "# Mostrar los encabezados y las primeras tres filas\n",
    "print(filas_inferior_1940.head(3))"
   ]
  },
  {
   "cell_type": "markdown",
   "metadata": {},
   "source": [
    "**Reemplazamos el dato 1900 del año de nacimiento por la media.**"
   ]
  },
  {
   "cell_type": "code",
   "execution_count": 126,
   "metadata": {},
   "outputs": [],
   "source": [
    "# Calcular la media de Year_Birth, excluyendo el valor 1900\n",
    "mean_year_birth = df[df['Year_Birth'] != 1900]['Year_Birth'].mean()\n",
    "\n",
    "# Reemplazar 1900 con la media calculada\n",
    "df.loc[df['Year_Birth'] == 1900, 'Year_Birth'] = round(mean_year_birth)"
   ]
  },
  {
   "cell_type": "code",
   "execution_count": 127,
   "metadata": {},
   "outputs": [
    {
     "name": "stdout",
     "output_type": "stream",
     "text": [
      "         ID  Year_Birth   Education Marital_Status   Income  Kidhome  \\\n",
      "25     7892        1969  Graduation         Single  18589.0        0   \n",
      "81     2261        1969  Graduation        Married  26304.0        1   \n",
      "107    2683        1969  Graduation        Married  52413.0        0   \n",
      "119    9862        1969  Graduation       Together  21918.0        1   \n",
      "132    9597        1969  Graduation        Married  73448.0        0   \n",
      "...     ...         ...         ...            ...      ...      ...   \n",
      "2091   2686        1969       Basic       Together  22390.0        0   \n",
      "2115   9907        1969      Master       Together  66476.0        0   \n",
      "2136    271        1969  Graduation          Widow  40590.0        1   \n",
      "2153   7699        1969  Graduation          Widow  40590.0        1   \n",
      "2201  10968        1969  Graduation         Single  57731.0        0   \n",
      "\n",
      "      Teenhome Dt_Customer  Recency  MntWines  ...  NumCatalogPurchases  \\\n",
      "25           0  2013-01-02       89         6  ...                    1   \n",
      "81           0  2013-06-23        5         4  ...                    0   \n",
      "107          2  2013-02-02       56       295  ...                    4   \n",
      "119          0  2013-11-14       37         1  ...                    0   \n",
      "132          0  2014-02-10       10       236  ...                    2   \n",
      "...        ...         ...      ...       ...  ...                  ...   \n",
      "2091         0  2013-10-21       49         0  ...                    0   \n",
      "2115         1  2013-12-04       80       742  ...                    8   \n",
      "2136         1  2013-10-02       30       154  ...                    4   \n",
      "2153         1  2013-10-02       30       154  ...                    4   \n",
      "2201         1  2012-11-23        0       266  ...                    8   \n",
      "\n",
      "      NumStorePurchases  NumWebVisitsMonth  AcceptedCmp3  AcceptedCmp4  \\\n",
      "25                    3                  7             0             0   \n",
      "81                    2                  7             0             0   \n",
      "107                  12                  6             0             0   \n",
      "119                   3                  6             0             0   \n",
      "132                   9                  4             0             0   \n",
      "...                 ...                ...           ...           ...   \n",
      "2091                  2                  7             0             0   \n",
      "2115                 10                  4             0             0   \n",
      "2136                  3                  6             1             0   \n",
      "2153                  3                  6             1             0   \n",
      "2201                  6                  6             0             0   \n",
      "\n",
      "      AcceptedCmp5  AcceptedCmp1  AcceptedCmp2  Complain  Response  \n",
      "25               0             0             0         0         0  \n",
      "81               0             0             0         0         0  \n",
      "107              0             0             0         0         0  \n",
      "119              0             0             0         0         0  \n",
      "132              0             0             0         0         0  \n",
      "...            ...           ...           ...       ...       ...  \n",
      "2091             0             0             0         0         0  \n",
      "2115             0             0             0         0         0  \n",
      "2136             0             0             0         0         0  \n",
      "2153             0             0             0         0         0  \n",
      "2201             0             0             0         0         0  \n",
      "\n",
      "[72 rows x 27 columns]\n"
     ]
    }
   ],
   "source": [
    "# Mostrar filas con Year_Birth igual a la media después de la corrección\n",
    "print(df[df['Year_Birth'] == round(mean_year_birth)])"
   ]
  },
  {
   "cell_type": "markdown",
   "metadata": {},
   "source": [
    "En [**Feature Engineering**](3_feature_engineering.ipynb) crearemos otra características nueva a partir de `Year_Birth` para determinar la edad del cliente."
   ]
  },
  {
   "cell_type": "markdown",
   "metadata": {},
   "source": [
    "### Eliminar filas con valores NaN en `Income`"
   ]
  },
  {
   "cell_type": "code",
   "execution_count": 128,
   "metadata": {},
   "outputs": [
    {
     "name": "stdout",
     "output_type": "stream",
     "text": [
      "Número de valores faltantes en la columna Income: 24\n"
     ]
    }
   ],
   "source": [
    "# Contar valores faltantes (NaN) en la columna 'Income'\n",
    "missing_values = df['Income'].isna().sum()\n",
    "\n",
    "print(f'Número de valores faltantes en la columna Income: {missing_values}')"
   ]
  },
  {
   "cell_type": "markdown",
   "metadata": {},
   "source": [
    "Eliminar estas 24 filas implica solo una disminución del 1,07%, lo que es insignificante para la muestra"
   ]
  },
  {
   "cell_type": "code",
   "execution_count": 129,
   "metadata": {},
   "outputs": [
    {
     "name": "stdout",
     "output_type": "stream",
     "text": [
      "<class 'pandas.core.frame.DataFrame'>\n",
      "Index: 2212 entries, 0 to 2239\n",
      "Data columns (total 27 columns):\n",
      " #   Column               Non-Null Count  Dtype         \n",
      "---  ------               --------------  -----         \n",
      " 0   ID                   2212 non-null   int64         \n",
      " 1   Year_Birth           2212 non-null   int64         \n",
      " 2   Education            2212 non-null   object        \n",
      " 3   Marital_Status       2212 non-null   object        \n",
      " 4   Income               2212 non-null   float64       \n",
      " 5   Kidhome              2212 non-null   int64         \n",
      " 6   Teenhome             2212 non-null   int64         \n",
      " 7   Dt_Customer          2212 non-null   datetime64[ns]\n",
      " 8   Recency              2212 non-null   int64         \n",
      " 9   MntWines             2212 non-null   int64         \n",
      " 10  MntFruits            2212 non-null   int64         \n",
      " 11  MntMeatProducts      2212 non-null   int64         \n",
      " 12  MntFishProducts      2212 non-null   int64         \n",
      " 13  MntSweetProducts     2212 non-null   int64         \n",
      " 14  MntGoldProds         2212 non-null   int64         \n",
      " 15  NumDealsPurchases    2212 non-null   int64         \n",
      " 16  NumWebPurchases      2212 non-null   int64         \n",
      " 17  NumCatalogPurchases  2212 non-null   int64         \n",
      " 18  NumStorePurchases    2212 non-null   int64         \n",
      " 19  NumWebVisitsMonth    2212 non-null   int64         \n",
      " 20  AcceptedCmp3         2212 non-null   int64         \n",
      " 21  AcceptedCmp4         2212 non-null   int64         \n",
      " 22  AcceptedCmp5         2212 non-null   int64         \n",
      " 23  AcceptedCmp1         2212 non-null   int64         \n",
      " 24  AcceptedCmp2         2212 non-null   int64         \n",
      " 25  Complain             2212 non-null   int64         \n",
      " 26  Response             2212 non-null   int64         \n",
      "dtypes: datetime64[ns](1), float64(1), int64(23), object(2)\n",
      "memory usage: 483.9+ KB\n",
      "None\n"
     ]
    }
   ],
   "source": [
    "# Eliminar las filas donde 'Income' es NaN\n",
    "df.dropna(subset=['Income'], inplace=True)\n",
    "\n",
    "# Verificar el cambio\n",
    "print(df.info())"
   ]
  },
  {
   "cell_type": "code",
   "execution_count": 130,
   "metadata": {},
   "outputs": [
    {
     "name": "stdout",
     "output_type": "stream",
     "text": [
      "Número de veces con decimales en 'Income': 0\n",
      "Número de veces sin decimales en 'Income': 2212\n"
     ]
    }
   ],
   "source": [
    "# Contar los valores con decimales en la columna 'Income'\n",
    "count_decimals = df['Income'].apply(lambda x: (x - int(x)) != 0).sum()\n",
    "\n",
    "# Contar los valores sin decimales en la columna 'Income'\n",
    "count_no_decimals = df.shape[0] - count_decimals\n",
    "\n",
    "print(f\"Número de veces con decimales en 'Income': {count_decimals}\")\n",
    "print(f\"Número de veces sin decimales en 'Income': {count_no_decimals}\")"
   ]
  },
  {
   "cell_type": "markdown",
   "metadata": {},
   "source": [
    "### Ya que no tiene decimales, pasamos Income al mismo formato que la mayoría de datos"
   ]
  },
  {
   "cell_type": "code",
   "execution_count": 131,
   "metadata": {},
   "outputs": [
    {
     "name": "stdout",
     "output_type": "stream",
     "text": [
      "<class 'pandas.core.frame.DataFrame'>\n",
      "Index: 2212 entries, 0 to 2239\n",
      "Data columns (total 27 columns):\n",
      " #   Column               Non-Null Count  Dtype         \n",
      "---  ------               --------------  -----         \n",
      " 0   ID                   2212 non-null   int64         \n",
      " 1   Year_Birth           2212 non-null   int64         \n",
      " 2   Education            2212 non-null   object        \n",
      " 3   Marital_Status       2212 non-null   object        \n",
      " 4   Income               2212 non-null   int64         \n",
      " 5   Kidhome              2212 non-null   int64         \n",
      " 6   Teenhome             2212 non-null   int64         \n",
      " 7   Dt_Customer          2212 non-null   datetime64[ns]\n",
      " 8   Recency              2212 non-null   int64         \n",
      " 9   MntWines             2212 non-null   int64         \n",
      " 10  MntFruits            2212 non-null   int64         \n",
      " 11  MntMeatProducts      2212 non-null   int64         \n",
      " 12  MntFishProducts      2212 non-null   int64         \n",
      " 13  MntSweetProducts     2212 non-null   int64         \n",
      " 14  MntGoldProds         2212 non-null   int64         \n",
      " 15  NumDealsPurchases    2212 non-null   int64         \n",
      " 16  NumWebPurchases      2212 non-null   int64         \n",
      " 17  NumCatalogPurchases  2212 non-null   int64         \n",
      " 18  NumStorePurchases    2212 non-null   int64         \n",
      " 19  NumWebVisitsMonth    2212 non-null   int64         \n",
      " 20  AcceptedCmp3         2212 non-null   int64         \n",
      " 21  AcceptedCmp4         2212 non-null   int64         \n",
      " 22  AcceptedCmp5         2212 non-null   int64         \n",
      " 23  AcceptedCmp1         2212 non-null   int64         \n",
      " 24  AcceptedCmp2         2212 non-null   int64         \n",
      " 25  Complain             2212 non-null   int64         \n",
      " 26  Response             2212 non-null   int64         \n",
      "dtypes: datetime64[ns](1), int64(24), object(2)\n",
      "memory usage: 483.9+ KB\n",
      "None\n",
      "     ID  Year_Birth   Education Marital_Status  Income  Kidhome  Teenhome  \\\n",
      "0  5524        1957  Graduation         Single   58138        0         0   \n",
      "1  2174        1954  Graduation         Single   46344        1         1   \n",
      "2  4141        1965  Graduation       Together   71613        0         0   \n",
      "3  6182        1984  Graduation       Together   26646        1         0   \n",
      "4  5324        1981         PhD        Married   58293        1         0   \n",
      "\n",
      "  Dt_Customer  Recency  MntWines  ...  NumCatalogPurchases  NumStorePurchases  \\\n",
      "0  2012-09-04       58       635  ...                   10                  4   \n",
      "1  2014-03-08       38        11  ...                    1                  2   \n",
      "2  2013-08-21       26       426  ...                    2                 10   \n",
      "3  2014-02-10       26        11  ...                    0                  4   \n",
      "4  2014-01-19       94       173  ...                    3                  6   \n",
      "\n",
      "   NumWebVisitsMonth  AcceptedCmp3  AcceptedCmp4  AcceptedCmp5  AcceptedCmp1  \\\n",
      "0                  7             0             0             0             0   \n",
      "1                  5             0             0             0             0   \n",
      "2                  4             0             0             0             0   \n",
      "3                  6             0             0             0             0   \n",
      "4                  5             0             0             0             0   \n",
      "\n",
      "   AcceptedCmp2  Complain  Response  \n",
      "0             0         0         1  \n",
      "1             0         0         0  \n",
      "2             0         0         0  \n",
      "3             0         0         0  \n",
      "4             0         0         0  \n",
      "\n",
      "[5 rows x 27 columns]\n",
      "int64\n"
     ]
    }
   ],
   "source": [
    "# Convertir la columna 'Income' de float64 a int64\n",
    "df['Income'] = df['Income'].astype('int64')\n",
    "\n",
    "# Verificar el cambio\n",
    "print(df.info())\n",
    "print(df.head())\n",
    "print(df['Income'].dtype)"
   ]
  },
  {
   "cell_type": "markdown",
   "metadata": {},
   "source": [
    "### Datos atípicos (**outliers**) en `Income`"
   ]
  },
  {
   "cell_type": "code",
   "execution_count": 132,
   "metadata": {},
   "outputs": [
    {
     "name": "stdout",
     "output_type": "stream",
     "text": [
      "count      2212.000000\n",
      "mean      52232.510850\n",
      "std       25187.455359\n",
      "min        1730.000000\n",
      "25%       35233.500000\n",
      "50%       51381.500000\n",
      "75%       68522.000000\n",
      "max      666666.000000\n",
      "Name: Income, dtype: float64\n",
      "Rango Intercuartílico (IQR): 33288.5\n",
      "Límite inferior: -14699.25\n",
      "Límite superior: 118454.75\n",
      "Número de outliers: 8\n",
      "         ID  Year_Birth   Education Marital_Status  Income  Kidhome  Teenhome  \\\n",
      "164    8475        1973         PhD        Married  157243        0         1   \n",
      "617    1503        1976         PhD       Together  162397        1         1   \n",
      "655    5555        1975  Graduation       Divorced  153924        0         0   \n",
      "687    1501        1982         PhD        Married  160803        0         0   \n",
      "1300   5336        1971      Master       Together  157733        1         0   \n",
      "1653   4931        1977  Graduation       Together  157146        0         0   \n",
      "2132  11181        1949         PhD        Married  156924        0         0   \n",
      "2233   9432        1977  Graduation       Together  666666        1         0   \n",
      "\n",
      "     Dt_Customer  Recency  MntWines  ...  NumCatalogPurchases  \\\n",
      "164   2014-03-01       98        20  ...                   22   \n",
      "617   2013-06-03       31        85  ...                    0   \n",
      "655   2014-02-07       81         1  ...                    0   \n",
      "687   2012-08-04       21        55  ...                   28   \n",
      "1300  2013-06-04       37        39  ...                    0   \n",
      "1653  2013-04-29       13         1  ...                   28   \n",
      "2132  2013-08-29       85         2  ...                    0   \n",
      "2233  2013-06-02       23         9  ...                    1   \n",
      "\n",
      "      NumStorePurchases  NumWebVisitsMonth  AcceptedCmp3  AcceptedCmp4  \\\n",
      "164                   0                  0             0             0   \n",
      "617                   1                  1             0             0   \n",
      "655                   0                  0             0             0   \n",
      "687                   1                  0             0             0   \n",
      "1300                  1                  1             0             0   \n",
      "1653                  0                  1             0             0   \n",
      "2132                  0                  0             0             0   \n",
      "2233                  3                  6             0             0   \n",
      "\n",
      "      AcceptedCmp5  AcceptedCmp1  AcceptedCmp2  Complain  Response  \n",
      "164              0             0             0         0         0  \n",
      "617              0             0             0         0         0  \n",
      "655              0             0             0         0         0  \n",
      "687              0             0             0         0         0  \n",
      "1300             0             0             0         0         0  \n",
      "1653             0             0             0         0         0  \n",
      "2132             0             0             0         0         0  \n",
      "2233             0             0             0         0         0  \n",
      "\n",
      "[8 rows x 27 columns]\n"
     ]
    }
   ],
   "source": [
    "# Resumen estadístico de la columna Income\n",
    "resumen = df['Income'].describe()\n",
    "print(resumen)\n",
    "\n",
    "# Calcular el rango intercuartílico (IQR)\n",
    "IQR = resumen['75%'] - resumen['25%']\n",
    "limite_inferior = resumen['25%'] - 1.5 * IQR\n",
    "limite_superior = resumen['75%'] + 1.5 * IQR\n",
    "\n",
    "print(f\"Rango Intercuartílico (IQR): {IQR}\")\n",
    "print(f\"Límite inferior: {limite_inferior}\")\n",
    "print(f\"Límite superior: {limite_superior}\")\n",
    "\n",
    "# Identificar outliers\n",
    "outliers = df[(df['Income'] < limite_inferior) | (df['Income'] > limite_superior)]\n",
    "print(f\"Número de outliers: {len(outliers)}\")\n",
    "print(outliers)"
   ]
  },
  {
   "cell_type": "markdown",
   "metadata": {},
   "source": [
    "**Income 666666 es probable que sea un dato inventado por el usuario.\n",
    "Reemplazamos el valor atípico en la columna Income para el ID 9432 con la media de Income sin contar los outliers**"
   ]
  },
  {
   "cell_type": "code",
   "execution_count": 133,
   "metadata": {},
   "outputs": [
    {
     "name": "stdout",
     "output_type": "stream",
     "text": [
      "2233    51617.73049\n",
      "Name: Income, dtype: float64\n",
      "count      2212.000000\n",
      "mean      51954.460095\n",
      "std       21530.922239\n",
      "min        1730.000000\n",
      "25%       35233.500000\n",
      "50%       51381.500000\n",
      "75%       68487.000000\n",
      "max      162397.000000\n",
      "Name: Income, dtype: float64\n"
     ]
    },
    {
     "name": "stderr",
     "output_type": "stream",
     "text": [
      "/tmp/ipykernel_2748/1618316270.py:8: FutureWarning: Setting an item of incompatible dtype is deprecated and will raise an error in a future version of pandas. Value '51617.73049001815' has dtype incompatible with int64, please explicitly cast to a compatible dtype first.\n",
      "  df.loc[df['ID'] == 9432, 'Income'] = media_sin_outliers\n"
     ]
    }
   ],
   "source": [
    "# Filtrar ingresos válidos (sin outliers)\n",
    "ingresos_validos = df[(df['Income'] >= limite_inferior) & (df['Income'] <= limite_superior)]\n",
    "\n",
    "# Calcular la media de los ingresos válidos\n",
    "media_sin_outliers = ingresos_validos['Income'].mean()\n",
    "\n",
    "# Reemplazar el valor atípico para el ID 9432 con la media calculada\n",
    "df.loc[df['ID'] == 9432, 'Income'] = media_sin_outliers\n",
    "\n",
    "# Verificar el cambio\n",
    "print(df.loc[df['ID'] == 9432, 'Income'])\n",
    "print(df['Income'].describe())"
   ]
  },
  {
   "cell_type": "code",
   "execution_count": 134,
   "metadata": {},
   "outputs": [
    {
     "name": "stdout",
     "output_type": "stream",
     "text": [
      "False\n"
     ]
    }
   ],
   "source": [
    "# Verificar si hay algún otro valor NaN en todo el DataFrame\n",
    "print(df.isna().any().any())\n",
    "# Esto imprimirá True si hay al menos un valor NaN en cualquier parte del DataFrame"
   ]
  },
  {
   "cell_type": "markdown",
   "metadata": {},
   "source": [
    "### Guardar los datos limpios en un nuevo archivo"
   ]
  },
  {
   "cell_type": "code",
   "execution_count": 135,
   "metadata": {},
   "outputs": [
    {
     "name": "stdout",
     "output_type": "stream",
     "text": [
      "Archivo guardado como '02campana_marketing.csv'\n"
     ]
    }
   ],
   "source": [
    "# Guardar el DataFrame modificado en un nuevo archivo CSV\n",
    "df.to_csv('../data/interim/02campana_marketing.csv', index=False)\n",
    "\n",
    "print(\"Archivo guardado como '02campana_marketing.csv'\")"
   ]
  }
 ],
 "metadata": {
  "kernelspec": {
   "display_name": "marketing-ml-classification-APEHDq7B-py3.12",
   "language": "python",
   "name": "python3"
  },
  "language_info": {
   "codemirror_mode": {
    "name": "ipython",
    "version": 3
   },
   "file_extension": ".py",
   "mimetype": "text/x-python",
   "name": "python",
   "nbconvert_exporter": "python",
   "pygments_lexer": "ipython3",
   "version": "3.12.3"
  }
 },
 "nbformat": 4,
 "nbformat_minor": 2
}
